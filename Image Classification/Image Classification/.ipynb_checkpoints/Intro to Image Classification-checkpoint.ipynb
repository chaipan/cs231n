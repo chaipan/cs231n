{
 "cells": [
  {
   "cell_type": "markdown",
   "metadata": {},
   "source": [
    "一、图像分类：\n",
    "\n",
    "    图像分类问题就是从修正过得策略集合中为输入图片指定一个标签。图像分类是计算机视觉的核心问题，一些其他的问题诸如物体检测和图像分割都可以化简为图像\n",
    "\n",
    "    1.分类问题。\n",
    "\n",
    "    计算机中图像由一组三维的数据表示，数字大小是从0（黑）到255（白）的整数，3表示的是颜色通道黄绿蓝。图像分类的任务就是将为这组数据加上标签，比如猫。\n",
    "\n",
    "    2.图像分类中的挑战：\n",
    "\n",
    "        视角的多样性：物体的实例因为镜头的方向不同而不同\n",
    "\n",
    "        规模的不同：不仅是现实中的大小还有图片中的\n",
    "\n",
    "        变形：物体可以变形为夸张的形态。\n",
    "\n",
    "        遮挡物：有时候不能看见全部\n",
    "\n",
    "        光照条件：\n",
    "\n",
    "        背景：\n",
    "\n",
    "        物体内部的多样性：椅子有各种各样的椅子，每种都有不同的形态\n",
    "\n",
    "    一个好的图片分类器对于以上多样性的交叉产品必须保持一致性（invariant），但对于物体内部的多样性仍然要保持敏感。\n",
    "\n",
    "    3.数据驱动的方法：\n",
    "\n",
    "        区别于具体编程的方法，即为每个标签在代码写出具体的识别方式，我们更喜欢数据驱动的方法，即给电脑许多的例子，让电脑通过学习物体的视觉外形来发展学\n",
    "\n",
    "        习算法。\n",
    "\n",
    "    4.图片分类的程序：\n",
    "\n",
    "        输入：n张图片的集合，分别标记有k中不同分类中的一种，这些数据组成了训练数据集。\n",
    "\n",
    "        学习：使用训练数据学习这些物体的形状，这个过程一般称为训练分类器或者学习模型。\n",
    "\n",
    "        评估：通过使用程序预测新数据，然后将预测标签和真实标签进行比对得出正确率。   \n",
    "\n",
    "    5.最近邻分类器：\n",
    "\n",
    "        跟卷积神经网络没有关系（本课程的重点为卷积神经网络），在实际中很少应用。\n",
    "                         $$d_1 (I_1, I_2) = \\sum_{p} \\left| I^p_1 - I^p_2 \\right|$$\n"
   ]
  },
  {
   "cell_type": "markdown",
   "metadata": {},
   "source": [
    "$$d_1 (I_1, I_2) = \\sum_{p} \\left| I^p_1 - I^p_2 \\right|$$"
   ]
  },
  {
   "cell_type": "code",
   "execution_count": null,
   "metadata": {
    "collapsed": true
   },
   "outputs": [],
   "source": []
  }
 ],
 "metadata": {
  "kernelspec": {
   "display_name": "Python 3",
   "language": "python",
   "name": "python3"
  },
  "language_info": {
   "codemirror_mode": {
    "name": "ipython",
    "version": 3
   },
   "file_extension": ".py",
   "mimetype": "text/x-python",
   "name": "python",
   "nbconvert_exporter": "python",
   "pygments_lexer": "ipython3",
   "version": "3.6.3"
  }
 },
 "nbformat": 4,
 "nbformat_minor": 2
}
